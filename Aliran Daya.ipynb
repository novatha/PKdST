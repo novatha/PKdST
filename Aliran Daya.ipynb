{
 "cells": [
  {
   "cell_type": "markdown",
   "metadata": {},
   "source": [
    "# Aliran Daya"
   ]
  },
  {
   "cell_type": "markdown",
   "metadata": {},
   "source": [
    "## Bilangan Kompleks"
   ]
  },
  {
   "cell_type": "markdown",
   "metadata": {},
   "source": [
    "Dalam catatan ini, bilangan kompleks digunakan untuk menyatakan hal-hal berikut:\n",
    "1. tegangan\n",
    "2. arus \n",
    "3. daya\n",
    "4. admitansi saluran.\n",
    "\n",
    "Sebagai contoh, daya $\\hat{S}$ adalah bilangan kompleks yang terdiri dari daya real $P$ dan daya imaginer $Q$ dan ditulis dengan\n",
    "\n",
    "$$\\hat{S}=P+jQ.$$ Tegangan  $\\hat{V}$ dinyatakan dalam koordinat polar dengan cara\n",
    "\n",
    "$$\n",
    "\\hat{V}=V\\angle \\theta.\n",
    "$$\n",
    "Admitansi saluran $\\hat{y}$ dinyatakan dalam koordinat kartesian dengan cara\n",
    "\n",
    "$$\n",
    "\\hat{y}=g+jb.\n",
    "$$"
   ]
  },
  {
   "cell_type": "markdown",
   "metadata": {},
   "source": [
    "## Konsep Dasar: Arus dan Daya Suntikan"
   ]
  },
  {
   "cell_type": "markdown",
   "metadata": {},
   "source": [
    "Coba pikirkan sebuah sistem dengan $n$ bus. Artinya, himpunan bus yang ada dalam sistem itu adalah $\\{1,2,3,...,n\\}$. Lalu, misalkan $(i,j) \\in \\{1,2,3,...,n\\}$ menunjukan sebuah saluran yang menghubungkan bus $i$ dan bus $j$.\n",
    "$\\hat{y}_{ij}$ adalah admitansi saluran $(i,j)$. Tegangan pada bus $i$ ditulis dengan $\\hat{V}_i$. Arus yang mengalir dari bus $i$ ke bus $j$, $\\hat{I}_{ij}$,  dapat dihitung dengan\n",
    "$$\n",
    "\\hat{I}_{ij}=(\\hat{V}_i - \\hat{V}_j)\\hat{y}_{ij}\n",
    "$$.\n"
   ]
  },
  {
   "cell_type": "markdown",
   "metadata": {},
   "source": [
    "Kemudian, daya yang dimasukkan ke saluran $(i,j)$ dari bus $i$, $\\hat{S}_{ij}$ dapat dihitung dengan cara\n",
    "$$\n",
    "\\hat{S}_{ij} = \\hat{V}_i \\hat{I}_{ij}^* = P_{ij}+jQ_{ij}.\n",
    "$$\n",
    "dimana $P_{ij}$ dan $Q_{ij}$ adalah bagian real dan imaginer $\\hat{S}_{ij}$"
   ]
  },
  {
   "cell_type": "markdown",
   "metadata": {},
   "source": [
    "Sekarang, misalkan himpunan seluruh bus yang terhubung dengan bus $i$ disebut sebagai $\\Omega_i$. Akibatnya, arus yang _keluar_ dari bus $i$ ke arah bus lain adalah\n",
    "\n",
    "$$\n",
    "\\hat{I}_i =\\sum_{i \\in \\Omega_i} (\\hat{V}_i - \\hat{V}_j)\\hat{y}_{ij}\n",
    "$$.\n",
    "\n",
    "Perlu juga diingat bahwa $I_i$ adalah juga nilai arus yang _dimasukkan_ atau _disuntikkan_ ke bus $i$. Arus suntik ini dalam bahasa Inggris sering disebut dengan _injected current_. Selanjutnya, kita akan menyebut $I_i$ sebagai _arus suntik ke bus $i$_"
   ]
  },
  {
   "cell_type": "markdown",
   "metadata": {},
   "source": [
    "Kemudian, kita bisa menghitung daya yang disuntikan ke bus $i$, $\\hat{S}_i$ dengan rumus\n",
    "\n",
    "$$\n",
    "\\hat{S}_i = \\hat{V}_i\\hat{I}_i^* = \\hat{V}_i \\sum_{j \\in \\Omega_i}  \\hat{I}_{ij}^* = P_i + jQ_i.\n",
    "$$\n",
    "\n",
    "dimana $P_i$ dan $Q_i$ adalah bagian real dan imaginer $\\hat{S}_i$. $\\hat{S}_i$ dapat juga ditulis dengan cara berikut\n",
    "\n",
    "$$\n",
    "\\hat{S}_i = \\hat{V}_i\\sum_{j \\in \\Omega_i} (\\hat{V}_i^* - \\hat{V}_j^*)\\hat{y}_{ij}^*   \n",
    "$$\n",
    "\n",
    "Persamaan diatas tergantung dengan $\\Omega_i$ yang tidak seragam untuk setiap $i$. Untuk menyederhanakannya, kita akan menggunakan dua anggapan berikut ini:\n",
    "1. Ganti $\\Omega_i$ dengan $\\{1,2,3,...,n\\}$.\n",
    "2. Jika $j \\notin \\Omega_i$, maka $\\hat{y}_{ij} = 0$.\n",
    "\n",
    "Dengan anggapan ini kita mendapatkan ungkapan untuk $\\hat{S}_i$yang lebih sederhana\n",
    "\n",
    "$$\n",
    "\\hat{S}_i = \\hat{V}_i\\sum_{j=1}^n (\\hat{V}_i^* - \\hat{V}_j^*)\\hat{y}_{ij}^*   \n",
    "$$"
   ]
  },
  {
   "cell_type": "markdown",
   "metadata": {},
   "source": [
    "## Persamaan Aliran Daya"
   ]
  },
  {
   "cell_type": "markdown",
   "metadata": {
    "collapsed": true
   },
   "source": [
    "Algoritma yang akan kita gunakan untuk menghitung aliran daya hanya bisa menggunakan bilangan ril. Oleh karena itu, kita membutuhkan persamaan yang menggunakan peubah ril.\n",
    "\n",
    "\\begin{eqnarray}\n",
    "\\hat{S}&=&V_i\\angle \\theta_i \\sum_{j=1}^n (V_i \\angle {-\\theta_i)} - V_j \\angle \\theta_j) (g_{ij}-jb_{ij})\\\\\n",
    "\\hat{S}&=&V_i^2 \\sum_{j=1}^n (g_{ij}-jb_{ij}) - V_i V_j \\angle (\\theta_i -\\theta_j) \\sum_{j=1}^n (g_{ij}-jb_{ij})\\\\\n",
    "\\hat{S}&=&V_i^2 \\sum_{j=1}^n jb_{ij} - V_i^2 \\sum_{j=1}^n jb_{ij} - V_i V_j \\angle (\\theta_i -\\theta_j) \\sum_{j=1}^n g_{ij} + V_i V_j \\angle (\\theta_i -\\theta_j) \\sum_{j=1}^n jb_{ij}\\\\\n",
    "\\hat{S}&=&V_i^2 \\sum_{j=1}^n g_{ij} - V_i^2 \\sum_{j=1}^n b_{ij} \\angle 90^o - V_i V_j \\angle (\\theta_i -\\theta_j) \\sum_{j=1}^n g_{ij} + V_i V_j \\angle (\\theta_i -\\theta_j) \\sum_{j=1}^n b_{ij} \\angle 90^o\n",
    "\\end{eqnarray}"
   ]
  },
  {
   "cell_type": "markdown",
   "metadata": {},
   "source": [
    "Kemudian, bagian ril dari $\\hat{S}_i$ dapat dinyatakan dengan\n",
    "\\begin{eqnarray}\n",
    "P_i &=& V_i^2 \\cos(0^o) \\sum_{j=1}^n g_{ij} - V_i^2 \\sum_{j=1}^n b_{ij} \\cos(90^o) - V_i V_j \\cos(\\theta_i -\\theta_j) \\sum_{j=1}^n g_{ij} \\nonumber \\\\ \n",
    "&& + V_i V_j \\cos(\\theta_i -\\theta_j+90^o) \\sum_{j=1}^n b_{ij}\\\\ \n",
    "P_i &=& V_i^2 \\sum_{j=1}^n g_{ij} - 0 - V_i V_j \\cos(\\theta_i -\\theta_j) \\sum_{j=1}^n g_{ij} + V_i V_j (-\\sin(\\theta_i -\\theta_j)) \\sum_{j=1}^n b_{ij}\\\\\n",
    "P_i &=& V_i^2 \\sum_{j=1}^n g_{ij} - V_i V_j \\cos(\\theta_i -\\theta_j) \\sum_{j=1}^n g_{ij} - V_i V_j \\sin(\\theta_i -\\theta_j) \\sum_{j=1}^n b_{ij}\n",
    "\\end{eqnarray}\n",
    "\n",
    "dan bagian imaginer dapat dinyatakan dengan\n",
    "\n",
    "\\begin{eqnarray}\n",
    "Q_i&=&V_i^2 \\sum_{j=1}^n g_{ij} \\sin(0^o) - V_i^2 \\sum_{j=1}^n b_{ij} \\sin(90^o) - V_i V_j \\sin(\\theta_i -\\theta_j) \\sum_{j=1}^n g_{ij} \\nonumber \\\\\n",
    "&&+ V_i V_j \\sin(\\theta_i -\\theta_j + 90^o) \\sum_{j=1}^n b_{ij} \\\\\n",
    "Q_i&=&V_i^2 \\sum_{j=1}^n g_{ij} 0 - V_i^2 \\sum_{j=1}^n b_{ij} 1 - V_i V_j \\sin(\\theta_i -\\theta_j) \\sum_{j=1}^n g_{ij} + V_i V_j \\cos(\\theta_i -\\theta_j) \\sum_{j=1}^n b_{ij} \\\\\n",
    "Q_i&=& -V_i^2 \\sum_{j=1}^n b_{ij} - V_i V_j \\sin(\\theta_i -\\theta_j) \\sum_{j=1}^n g_{ij} + V_i V_j \\cos(\\theta_i -\\theta_j) \\sum_{j=1}^n b_{ij} \n",
    "\\end{eqnarray}"
   ]
  },
  {
   "cell_type": "markdown",
   "metadata": {},
   "source": [
    "Berdasarkan uraian diatas, dua himpunan persamaan aliran daya dapat ditulis sebagai berikut\n",
    "\\begin{eqnarray}\n",
    "P_i &=& V_i^2 \\sum_{j=1}^n g_{ij} - V_i V_j \\cos(\\theta_i -\\theta_j) \\sum_{j=1}^n g_{ij} - V_i V_j \\sin(\\theta_i -\\theta_j) \\sum_{j=1}^n b_{ij}\\\\\n",
    "Q_i&=& V_i^2 \\sum_{j=1}^n b_{ij} - V_i V_j \\sin(\\theta_i -\\theta_j) \\sum_{j=1}^n g_{ij} + V_i V_j \\cos(\\theta_i -\\theta_j) \\sum_{j=1}^n b_{ij} \n",
    "\\end{eqnarray}"
   ]
  },
  {
   "cell_type": "markdown",
   "metadata": {},
   "source": [
    "Dengan mengetahui besar $V_i$ dan sudut $\\theta_i$ tegangan di setiap bus, kita dapat menghitung susut daya pada sebuah saluran $(i,j)$, $\\hat{S}_{loss,ij}$,dengan cara menjumlahkan daya suntikan pada kedua ujung saluran tersebut,\n",
    "\n",
    "$$\n",
    "\\hat{S}_{loss,ij} = \\hat{S}_{ij}+ \\hat{S}_{ji}.\n",
    "$$"
   ]
  },
  {
   "cell_type": "markdown",
   "metadata": {},
   "source": [
    "## Tiga Jenis Bus\n",
    "Dalam kaji aliran daya, untuk setiap bus $i$, ada 4 angka yang perlu kita pelajari, $P_i, Q_i, V_i$ dan $\\theta_i$. Dua dari empat angka tersebut harus diketahui pada awal kaji dan sisanya dapat diketahui di akhir kaji.\n",
    "\n",
    "Tergantung dengan angka-angka yang diketahui, ada tiga jenis bus yang ada dalam kaji aliran daya:\n",
    "1. Bus PQ (Bus beban,_load bus_) dimana $P_i$ dan $Q_i$ diketahui di awal kaji.\n",
    "2. Bus PV (Bus pembangkit, _generator bus_) dimana $P_i$ dan $V_i$ diketahui di awal kaji.\n",
    "3. Bus $V\\theta$ (Bus slack, _slack bus_) dimana $V_i$ dan $\\theta_i$ diketahui di awal kaji."
   ]
  }
 ],
 "metadata": {
  "kernelspec": {
   "display_name": "Julia 0.4.3",
   "language": "julia",
   "name": "julia-0.4"
  },
  "language_info": {
   "file_extension": ".jl",
   "mimetype": "application/julia",
   "name": "julia",
   "version": "0.4.3"
  }
 },
 "nbformat": 4,
 "nbformat_minor": 0
}
